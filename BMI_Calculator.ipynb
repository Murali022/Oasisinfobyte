{
  "nbformat": 4,
  "nbformat_minor": 0,
  "metadata": {
    "colab": {
      "provenance": [],
      "authorship_tag": "ABX9TyMM1yMuivd6mJIiMaokrJzj",
      "include_colab_link": true
    },
    "kernelspec": {
      "name": "python3",
      "display_name": "Python 3"
    },
    "language_info": {
      "name": "python"
    }
  },
  "cells": [
    {
      "cell_type": "markdown",
      "metadata": {
        "id": "view-in-github",
        "colab_type": "text"
      },
      "source": [
        "<a href=\"https://colab.research.google.com/github/Murali022/Oasisinfobyte/blob/main/BMI_Calculator.ipynb\" target=\"_parent\"><img src=\"https://colab.research.google.com/assets/colab-badge.svg\" alt=\"Open In Colab\"/></a>"
      ]
    },
    {
      "cell_type": "code",
      "execution_count": null,
      "metadata": {
        "colab": {
          "base_uri": "https://localhost:8080/"
        },
        "id": "t2H-rZMQWQN5",
        "outputId": "ad9774b8-b3d3-45db-f8d0-a7446f1543ab"
      },
      "outputs": [
        {
          "output_type": "stream",
          "name": "stdout",
          "text": [
            "========= BMI Calculator ==========\n",
            "Enter Your Weight in Kilograms:55.4\n",
            "Enter Your Height in Meters:157\n",
            "Sorry Buddy you are Underweight\n"
          ]
        }
      ],
      "source": [
        "print(\"========= BMI Calculator ==========\")\n",
        "Mass = float(input(\"Enter Your Weight in Kilograms:\"))\n",
        "Height = float(input(\"Enter Your Height in Meters:\"))\n",
        "BMI = Mass / (Height ** 2)\n",
        "if BMI < 18.5:\n",
        "    print(\"Sorry Buddy you are Underweight\")\n",
        "elif BMI >= 18.5 and BMI <= 24.9:\n",
        "    print(\"Your are in Normal weight Man Keep it up :)\")\n",
        "elif BMI >= 25 and BMI <=29.9:\n",
        "    print(\"You are Overweight Dude try to maintain diet\")\n",
        "elif BMI >= 30 and BMI <= 34.9:\n",
        "    print(\"Sorry to inform you got Obesity Bro it's in Moderate stage\")\n",
        "elif BMI >= 35 and BMI <= 39.9:\n",
        "    print(\"Sorry to inform you got Obesity Bro it's in Severe stage\")\n",
        "elif BMI >= 40:\n",
        "    print(\"Sorry to inform you got Obesity Bro it's in very Severe stage 'Morbid stage' \\n Try to consult doctor immediate\")\n"
      ]
    }
  ]
}