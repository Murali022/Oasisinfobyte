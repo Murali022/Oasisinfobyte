{
  "nbformat": 4,
  "nbformat_minor": 0,
  "metadata": {
    "colab": {
      "provenance": [],
      "authorship_tag": "ABX9TyOzK7S3PP0Q3/aOMG2nJtWi",
      "include_colab_link": true
    },
    "kernelspec": {
      "name": "python3",
      "display_name": "Python 3"
    },
    "language_info": {
      "name": "python"
    }
  },
  "cells": [
    {
      "cell_type": "markdown",
      "metadata": {
        "id": "view-in-github",
        "colab_type": "text"
      },
      "source": [
        "<a href=\"https://colab.research.google.com/github/Murali022/Oasisinfobyte/blob/main/Generate_Password.ipynb\" target=\"_parent\"><img src=\"https://colab.research.google.com/assets/colab-badge.svg\" alt=\"Open In Colab\"/></a>"
      ]
    },
    {
      "cell_type": "code",
      "execution_count": null,
      "metadata": {
        "colab": {
          "base_uri": "https://localhost:8080/"
        },
        "id": "Hk8MAwvhXl7f",
        "outputId": "fc958765-6efe-40a9-c16c-1d1a0068c37c"
      },
      "outputs": [
        {
          "output_type": "stream",
          "name": "stdout",
          "text": [
            "====== Generate Password ======\n",
            "Enter password length: 10\n",
            "Do you want numbers (y/n)? y\n",
            "Do you want to have special chararcters (y/n)? y\n",
            "Your password is: vpI:Uj(`J!.y>IX.F'9\n"
          ]
        }
      ],
      "source": [
        "import string\n",
        "import random\n",
        "\n",
        "def generate_password(min_length, numbers=True, special_characters=True):\n",
        "    s1 = string.ascii_letters\n",
        "    s2 = string.digits\n",
        "    s3 = string.punctuation\n",
        "\n",
        "    characters = s1\n",
        "    if numbers:\n",
        "        characters += s2\n",
        "    if special_characters:\n",
        "        characters += s3\n",
        "\n",
        "    pwd =\"\"\n",
        "    meets_criteria = False\n",
        "    has_number = False\n",
        "    has_special = False\n",
        "\n",
        "    while not meets_criteria or len(pwd) < min_length:\n",
        "        new_char = random.choice(characters)\n",
        "        pwd += new_char\n",
        "\n",
        "        if new_char in s2:\n",
        "            has_number = True\n",
        "        elif new_char in s3:\n",
        "            has_special = True\n",
        "\n",
        "        meets_criteria = True\n",
        "        if numbers:\n",
        "            meets_criteria = has_number\n",
        "        if special_characters:\n",
        "            meets_criteria = meets_criteria and has_special\n",
        "\n",
        "    return pwd\n",
        "\n",
        "print(\"====== Generate Password ======\")\n",
        "min_length = int(input(\"Enter password length: \"))\n",
        "has_number = input(\"Do you want numbers (y/n)? \").lower() == \"y\"\n",
        "has_special = input(\"Do you want to have special chararcters (y/n)? \").lower() ==\"y\"\n",
        "pwd = generate_password(min_length, has_number, has_special)\n",
        "print(\"Your password is:\",pwd)"
      ]
    }
  ]
}